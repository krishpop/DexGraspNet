{
 "cells": [
  {
   "cell_type": "code",
   "execution_count": 44,
   "metadata": {
    "tags": []
   },
   "outputs": [],
   "source": [
    "import os\n",
    "import sys\n",
    "sys.path.append(os.path.realpath(\".\"))\n",
    "from utils.isaac_validator import IsaacValidator, ValidationType\n",
    "from tap import Tap\n",
    "import torch\n",
    "import numpy as np\n",
    "from utils.hand_model import HandModel\n",
    "from utils.object_model import ObjectModel\n",
    "from utils.hand_model_type import (\n",
    "   HandModelType,\n",
    "   handmodeltype_to_joint_names,\n",
    ")\n",
    "from utils.qpos_pose_conversion import (\n",
    "   qpos_to_pose,\n",
    "   qpos_to_translation_quaternion_jointangles,\n",
    "   pose_to_qpos,\n",
    ")\n",
    "from typing import List, Optional, Dict\n",
    "import math\n",
    "import random\n",
    "from utils.seed import set_seed\n",
    "from utils.joint_angle_targets import (\n",
    "   compute_optimized_joint_angle_targets,\n",
    "   OptimizationMethod,\n",
    ")\n",
    "from utils.energy import _cal_hand_object_penetration"
   ]
  },
  {
   "cell_type": "markdown",
   "metadata": {},
   "source": [
    "## PARAMS"
   ]
  },
  {
   "cell_type": "code",
   "execution_count": 36,
   "metadata": {},
   "outputs": [],
   "source": [
    "mesh_path = \"/scr-ssd/ksrini/DexGraspNet/meshdata/\"\n",
    "data_path = \"/juno/downloads/dexgraspnet_dataset/2023-07-01_dataset_DESIRED_DIST_TOWARDS_OBJECT_SURFACE_MULTIPLE_STEPS_v2/\"\n",
    "hand_model_type = HandModelType.ALLEGRO_HAND\n",
    "seed = 102\n",
    "joint_angle_targets_optimization_method = (\n",
    "    OptimizationMethod.DESIRED_DIST_TOWARDS_OBJECT_SURFACE_MULTIPLE_STEPS\n",
    ")\n",
    "should_canonicalize_hand_pose = True\n",
    "device = torch.device(\"cuda\" if torch.cuda.is_available() else \"cpu\")"
   ]
  },
  {
   "cell_type": "markdown",
   "metadata": {},
   "source": [
    "## Set Seed"
   ]
  },
  {
   "cell_type": "code",
   "execution_count": 4,
   "metadata": {},
   "outputs": [
    {
     "name": "stdout",
     "output_type": "stream",
     "text": [
      "Setting seed: 102\n"
     ]
    },
    {
     "data": {
      "text/plain": [
       "102"
      ]
     },
     "execution_count": 4,
     "metadata": {},
     "output_type": "execute_result"
    }
   ],
   "source": [
    "set_seed(seed)"
   ]
  },
  {
   "cell_type": "markdown",
   "metadata": {},
   "source": [
    "## Grasp codes"
   ]
  },
  {
   "cell_type": "code",
   "execution_count": 39,
   "metadata": {},
   "outputs": [],
   "source": [
    "grasp_code_list = []\n",
    "mesh_files = set(map(lambda x: os.path.splitext(x)[0], os.listdir(mesh_path)))\n",
    "\n",
    "for filename in os.listdir(data_path):\n",
    "    code = filename.split(\".\")[0]\n",
    "    assert code in mesh_files\n",
    "    if code.startswith('sem-'):\n",
    "        grasp_code_list.append(code)"
   ]
  },
  {
   "cell_type": "markdown",
   "metadata": {},
   "source": [
    "## Sample and read in data"
   ]
  },
  {
   "cell_type": "code",
   "execution_count": 43,
   "metadata": {},
   "outputs": [
    {
     "name": "stdout",
     "output_type": "stream",
     "text": [
      "Randomly sampled grasp_code = sem-Book-4dc6344e8e357867a0a7b8ecc42036d5\n",
      "Randomly sampled index = 346\n",
      "scale = 0.05999999865889549\n"
     ]
    }
   ],
   "source": [
    "grasp_code = random.choice(grasp_code_list)\n",
    "grasp_data_list = np.load(os.path.join(data_path, grasp_code + \".npy\"), allow_pickle=True)\n",
    "print(f\"Randomly sampled grasp_code = {grasp_code}\")\n",
    "\n",
    "index = random.randint(0, len(grasp_data_list) - 1)\n",
    "qpos = grasp_data_list[index][\"qpos\"]\n",
    "scale = grasp_data_list[index][\"scale\"]\n",
    "print(f\"Randomly sampled index = {index}\")\n",
    "print(f\"scale = {scale}\")"
   ]
  },
  {
   "cell_type": "markdown",
   "metadata": {},
   "source": [
    "## Object model"
   ]
  },
  {
   "cell_type": "code",
   "execution_count": null,
   "metadata": {},
   "outputs": [],
   "source": [
    "object_model = ObjectModel(\n",
    "    data_root_path=mesh_path,\n",
    "    batch_size_each=1,\n",
    "    device=device,\n",
    ")\n",
    "object_model.initialize([grasp_code])\n",
    "object_model.object_scale_tensor = torch.tensor(\n",
    "    scale, dtype=torch.float, device=device\n",
    ").reshape(object_model.object_scale_tensor.shape)"
   ]
  },
  {
   "cell_type": "markdown",
   "metadata": {},
   "source": [
    "## Hand model"
   ]
  },
  {
   "cell_type": "code",
   "execution_count": null,
   "metadata": {},
   "outputs": [],
   "source": [
    "joint_names = handmodeltype_to_joint_names[hand_model_type]\n",
    "hand_model = HandModel(hand_model_type, device=device)\n",
    "\n",
    "hand_pose = qpos_to_pose(\n",
    "    qpos=qpos, joint_names=joint_names, unsqueeze_batch_dim=True\n",
    ").to(device)\n",
    "hand_model.set_parameters(hand_pose)\n",
    "\n",
    "batch_idx = 0\n",
    "hand_mesh = hand_model.get_trimesh_data(batch_idx)\n",
    "object_mesh = object_model.object_mesh_list[batch_idx].copy().apply_scale(scale)"
   ]
  },
  {
   "cell_type": "markdown",
   "metadata": {},
   "source": [
    "## Visualize hand and object"
   ]
  },
  {
   "cell_type": "code",
   "execution_count": null,
   "metadata": {},
   "outputs": [],
   "source": [
    "(hand_mesh + object_mesh).show()"
   ]
  },
  {
   "cell_type": "markdown",
   "metadata": {},
   "source": [
    "## Visualize hand and object plotly"
   ]
  },
  {
   "cell_type": "code",
   "execution_count": null,
   "metadata": {},
   "outputs": [],
   "source": [
    "fig_title = f\"Grasp Code: {grasp_code}, Index: {index}\"\n",
    "idx_to_visualize = batch_idx\n",
    "\n",
    "fig = go.Figure(\n",
    "    layout=go.Layout(\n",
    "        scene=dict(\n",
    "            xaxis=dict(title=\"X\"),\n",
    "            yaxis=dict(title=\"Y\"),\n",
    "            zaxis=dict(title=\"Z\"),\n",
    "            aspectmode=\"data\",\n",
    "        ),\n",
    "        showlegend=True,\n",
    "        title=fig_title,\n",
    "        autosize=False,\n",
    "        width=800,\n",
    "        height=800,\n",
    "    )\n",
    ")\n",
    "plots = [\n",
    "    *hand_model.get_plotly_data(\n",
    "        i=idx_to_visualize, opacity=1.0, with_contact_candidates=True\n",
    "    ),\n",
    "    *object_model.get_plotly_data(i=idx_to_visualize, opacity=0.5),\n",
    "]\n",
    "for plot in plots:\n",
    "    fig.add_trace(plot)\n",
    "fig.show()"
   ]
  },
  {
   "cell_type": "markdown",
   "metadata": {},
   "source": [
    "## Compute optimized canonicalized grasp"
   ]
  },
  {
   "cell_type": "code",
   "execution_count": null,
   "metadata": {},
   "outputs": [],
   "source": [
    "if should_canonicalize_hand_pose:\n",
    "    (\n",
    "        canonicalized_hand_pose,\n",
    "        canonicalized_losses,\n",
    "        canonicalized_debug_infos,\n",
    "    ) = compute_optimized_canonicalized_hand_pose(\n",
    "        hand_model=hand_model,\n",
    "        object_model=object_model,\n",
    "        device=device,\n",
    "    )\n",
    "    hand_model.set_parameters(canonicalized_hand_pose)\n",
    "\n",
    "    fig_title = f\"Canonicalized Grasp Code: {grasp_code}, Index: {index}\"\n",
    "    idx_to_visualize = batch_idx\n",
    "\n",
    "    fig = go.Figure(\n",
    "        layout=go.Layout(\n",
    "            scene=dict(\n",
    "                xaxis=dict(title=\"X\"),\n",
    "                yaxis=dict(title=\"Y\"),\n",
    "                zaxis=dict(title=\"Z\"),\n",
    "                aspectmode=\"data\",\n",
    "            ),\n",
    "            showlegend=True,\n",
    "            title=fig_title,\n",
    "            autosize=False,\n",
    "            width=800,\n",
    "            height=800,\n",
    "        )\n",
    "    )\n",
    "\n",
    "    canonicalized_target_points = canonicalized_debug_infos[-1][\"target_points\"]\n",
    "    canonicalized_contact_points_hand = canonicalized_debug_infos[-1][\"contact_points_hand\"]\n",
    "    canonicalized_closest_points_object = (\n",
    "        canonicalized_debug_infos[-1]['contact_points_hand']\n",
    "        - canonicalized_debug_infos[-1]['contact_normals'] * canonicalized_debug_infos[-1]['contact_distances'][..., None]\n",
    "    )\n",
    "\n",
    "    plots = [\n",
    "        *hand_model.get_plotly_data(\n",
    "            i=idx_to_visualize, opacity=1.0, with_contact_candidates=True\n",
    "        ),\n",
    "        *object_model.get_plotly_data(i=idx_to_visualize, opacity=0.5),\n",
    "        go.Scatter3d(\n",
    "            x=canonicalized_target_points[batch_idx, :, 0].detach().cpu().numpy(),\n",
    "            y=canonicalized_target_points[batch_idx, :, 1].detach().cpu().numpy(),\n",
    "            z=canonicalized_target_points[batch_idx, :, 2].detach().cpu().numpy(),\n",
    "            mode=\"markers\",\n",
    "            marker=dict(size=10, color=\"red\"),\n",
    "            name=\"target_points\",\n",
    "        ),\n",
    "        go.Scatter3d(\n",
    "            x=canonicalized_contact_points_hand[batch_idx, :, 0].detach().cpu().numpy(),\n",
    "            y=canonicalized_contact_points_hand[batch_idx, :, 1].detach().cpu().numpy(),\n",
    "            z=canonicalized_contact_points_hand[batch_idx, :, 2].detach().cpu().numpy(),\n",
    "            mode=\"markers\",\n",
    "            marker=dict(size=10, color=\"green\"),\n",
    "            name=\"contact_points_hand\",\n",
    "        ),\n",
    "        # Draw blue line between closest points and contact points\n",
    "        *[\n",
    "            go.Scatter3d(\n",
    "                x=[\n",
    "                    canonicalized_closest_points_object[batch_idx, i, 0].detach().cpu().numpy(),\n",
    "                    canonicalized_contact_points_hand[batch_idx, i, 0].detach().cpu().numpy(),\n",
    "                ],\n",
    "                y=[\n",
    "                    canonicalized_closest_points_object[batch_idx, i, 1].detach().cpu().numpy(),\n",
    "                    canonicalized_contact_points_hand[batch_idx, i, 1].detach().cpu().numpy(),\n",
    "                ],\n",
    "                z=[\n",
    "                    canonicalized_closest_points_object[batch_idx, i, 2].detach().cpu().numpy(),\n",
    "                    canonicalized_contact_points_hand[batch_idx, i, 2].detach().cpu().numpy(),\n",
    "                ],\n",
    "                mode=\"lines\",\n",
    "                line=dict(color=\"blue\", width=5),\n",
    "                name=\"contact_point_to_closest_point\",\n",
    "            )\n",
    "            for i in range(canonicalized_closest_points_object.shape[1])\n",
    "        ],\n",
    "    ]\n",
    "    for plot in plots:\n",
    "        fig.add_trace(plot)\n",
    "    fig.show()"
   ]
  },
  {
   "cell_type": "code",
   "execution_count": null,
   "metadata": {},
   "outputs": [],
   "source": [
    "if should_canonicalize_hand_pose:\n",
    "    fig = px.line(y=canonicalized_losses)\n",
    "    fig.update_layout(\n",
    "        title=\"Canonicalized Loss vs. Iterations\", xaxis_title=\"Iterations\", yaxis_title=\"Loss\"\n",
    "    )\n",
    "    fig.show()\n",
    "\n"
   ]
  },
  {
   "cell_type": "markdown",
   "metadata": {},
   "source": [
    "## Compute optimized joint angle targets"
   ]
  },
  {
   "cell_type": "code",
   "execution_count": null,
   "metadata": {},
   "outputs": [],
   "source": [
    "original_hand_pose = hand_model.hand_pose.detach().clone()\n",
    "print(f\"original_hand_pose[:, 9:] = {original_hand_pose[:, 9:]}\")"
   ]
  },
  {
   "cell_type": "code",
   "execution_count": null,
   "metadata": {},
   "outputs": [],
   "source": [
    "(\n",
    "    joint_angle_targets_to_optimize,\n",
    "    losses,\n",
    "    debug_infos,\n",
    ") = compute_optimized_joint_angle_targets(\n",
    "    optimization_method=joint_angle_targets_optimization_method,\n",
    "    hand_model=hand_model,\n",
    "    object_model=object_model,\n",
    "    device=device,\n",
    ")\n",
    "old_debug_info = debug_infos[0]\n",
    "debug_info = debug_infos[-1]"
   ]
  },
  {
   "cell_type": "code",
   "execution_count": null,
   "metadata": {},
   "outputs": [],
   "source": [
    "fig = px.line(y=losses)\n",
    "fig.update_layout(\n",
    "    title=f\"{joint_angle_targets_optimization_method} Loss vs. Iterations\", xaxis_title=\"Iterations\", yaxis_title=\"Loss\"\n",
    ")\n",
    "fig.show()"
   ]
  },
  {
   "cell_type": "code",
   "execution_count": null,
   "metadata": {
    "lines_to_next_cell": 2
   },
   "outputs": [],
   "source": [
    "print(f\"joint_angle_targets_to_optimize = {joint_angle_targets_to_optimize}\")"
   ]
  },
  {
   "cell_type": "markdown",
   "metadata": {},
   "source": [
    "## Visualize hand pose before and after optimization"
   ]
  },
  {
   "cell_type": "code",
   "execution_count": null,
   "metadata": {},
   "outputs": [],
   "source": [
    "# Plotly fig\n",
    "hand_model.set_parameters(original_hand_pose)\n",
    "old_hand_model_plotly = hand_model.get_plotly_data(\n",
    "    i=idx_to_visualize, opacity=1.0, with_contact_candidates=True\n",
    ")\n",
    "\n",
    "fig = make_subplots(\n",
    "    rows=1,\n",
    "    cols=2,\n",
    "    specs=[[{\"type\": \"scene\"}, {\"type\": \"scene\"}]],\n",
    "    subplot_titles=(\"Original\", \"Optimized\"),\n",
    ")\n",
    "old_target_points = old_debug_info[\"target_points\"]\n",
    "old_contact_points_hand = old_debug_info[\"contact_points_hand\"]\n",
    "\n",
    "plots = [\n",
    "    *old_hand_model_plotly,\n",
    "    *object_model.get_plotly_data(i=idx_to_visualize, opacity=0.5),\n",
    "    go.Scatter3d(\n",
    "        x=old_target_points[batch_idx, :, 0].detach().cpu().numpy(),\n",
    "        y=old_target_points[batch_idx, :, 1].detach().cpu().numpy(),\n",
    "        z=old_target_points[batch_idx, :, 2].detach().cpu().numpy(),\n",
    "        mode=\"markers\",\n",
    "        marker=dict(size=10, color=\"red\"),\n",
    "        name=\"target_points\",\n",
    "    ),\n",
    "    go.Scatter3d(\n",
    "        x=old_contact_points_hand[batch_idx, :, 0].detach().cpu().numpy(),\n",
    "        y=old_contact_points_hand[batch_idx, :, 1].detach().cpu().numpy(),\n",
    "        z=old_contact_points_hand[batch_idx, :, 2].detach().cpu().numpy(),\n",
    "        mode=\"markers\",\n",
    "        marker=dict(size=10, color=\"green\"),\n",
    "        name=\"contact_points_hand\",\n",
    "    ),\n",
    "]\n",
    "\n",
    "for plot in plots:\n",
    "    fig.append_trace(plot, row=1, col=1)"
   ]
  },
  {
   "cell_type": "code",
   "execution_count": null,
   "metadata": {},
   "outputs": [],
   "source": [
    "\n",
    "new_hand_pose = original_hand_pose.detach().clone()\n",
    "new_hand_pose[:, 9:] = joint_angle_targets_to_optimize\n",
    "hand_model.set_parameters(new_hand_pose)\n",
    "new_hand_model_plotly = hand_model.get_plotly_data(\n",
    "    i=idx_to_visualize, opacity=1.0, with_contact_candidates=True\n",
    ")\n",
    "\n",
    "new_target_points = debug_info[\"target_points\"]\n",
    "new_contact_points_hand = debug_info[\"contact_points_hand\"]\n",
    "\n",
    "plots = [\n",
    "    *new_hand_model_plotly,\n",
    "    *object_model.get_plotly_data(i=idx_to_visualize, opacity=0.5),\n",
    "    go.Scatter3d(\n",
    "        x=new_target_points[batch_idx, :, 0].detach().cpu().numpy(),\n",
    "        y=new_target_points[batch_idx, :, 1].detach().cpu().numpy(),\n",
    "        z=new_target_points[batch_idx, :, 2].detach().cpu().numpy(),\n",
    "        mode=\"markers\",\n",
    "        marker=dict(size=10, color=\"red\"),\n",
    "        name=\"new_target_points\",\n",
    "    ),\n",
    "    go.Scatter3d(\n",
    "        x=new_contact_points_hand[batch_idx, :, 0].detach().cpu().numpy(),\n",
    "        y=new_contact_points_hand[batch_idx, :, 1].detach().cpu().numpy(),\n",
    "        z=new_contact_points_hand[batch_idx, :, 2].detach().cpu().numpy(),\n",
    "        mode=\"markers\",\n",
    "        marker=dict(size=10, color=\"green\"),\n",
    "        name=\"contact_points_hand\",\n",
    "    ),\n",
    "]\n",
    "\n",
    "for plot in plots:\n",
    "    fig.append_trace(plot, row=1, col=2)\n",
    "\n",
    "fig.update_layout(\n",
    "    autosize=False,\n",
    "    width=1600,\n",
    "    height=800,\n",
    "    title_text=f\"Optimization Method: {joint_angle_targets_optimization_method.name}\",\n",
    ")\n",
    "fig.show()"
   ]
  }
 ],
 "metadata": {
  "jupytext": {
   "formats": "ipynb,py:percent"
  },
  "kernelspec": {
   "display_name": "Python 3 (ipykernel)",
   "language": "python",
   "name": "python3"
  },
  "language_info": {
   "codemirror_mode": {
    "name": "ipython",
    "version": 3
   },
   "file_extension": ".py",
   "mimetype": "text/x-python",
   "name": "python",
   "nbconvert_exporter": "python",
   "pygments_lexer": "ipython3",
   "version": "3.8.16"
  },
  "vscode": {
   "interpreter": {
    "hash": "2d4291a8a48b28165ac7232d5c96e1282ed596e61d078e48e9495becf16bfc7d"
   }
  }
 },
 "nbformat": 4,
 "nbformat_minor": 4
}
